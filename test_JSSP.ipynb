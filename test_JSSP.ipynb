{
 "cells": [
  {
   "cell_type": "code",
   "execution_count": 1,
   "metadata": {},
   "outputs": [],
   "source": [
    "import numpy as np\n",
    "from JobShopScheduling import JSSP\n",
    "\n",
    "%load_ext autoreload\n",
    "%autoreload 2"
   ]
  },
  {
   "cell_type": "code",
   "execution_count": 3,
   "metadata": {},
   "outputs": [
    {
     "data": {
      "text/plain": [
       "array([1., 1., 1., 0., 0., 0., 0., 0., 0., 0.])"
      ]
     },
     "execution_count": 3,
     "metadata": {},
     "output_type": "execute_result"
    }
   ],
   "source": [
    "a = np.ones(10)\n",
    "b = np.zeros(10)\n",
    "np.hstack((a[:3], b[3:]))"
   ]
  },
  {
   "cell_type": "code",
   "execution_count": 128,
   "metadata": {
    "scrolled": true
   },
   "outputs": [
    {
     "name": "stdout",
     "output_type": "stream",
     "text": [
      "[[2 3 0 4 1]\n",
      " [2 3 1 4 0]]\n",
      "[[19 19 11  4 16]\n",
      " [16  9  2 13 12]]\n"
     ]
    }
   ],
   "source": [
    "# Seq = np.array([[0,1,2],\n",
    "#                [1,0,1],\n",
    "#                [2,2,0]])\n",
    "\n",
    "# Processing_time = np.array([[1,2,3],\n",
    "#                            [2,1,3],\n",
    "#                            [3,2,1]])\n",
    "\n",
    "\n",
    "model = JSSP(2, 5, randopt=True)\n",
    "Seq = model.generate_rand_seq()\n",
    "print(Seq)\n",
    "print(model.Processing_time)"
   ]
  },
  {
   "cell_type": "code",
   "execution_count": 129,
   "metadata": {
    "scrolled": true
   },
   "outputs": [
    {
     "name": "stdout",
     "output_type": "stream",
     "text": [
      "(2, 0)\n",
      "(array([ 0.,  0., 19.,  0.,  0.]), array([19.,  0.]), 19.0)\n",
      "(2, 1)\n",
      "(array([ 0.,  0., 35.,  0.,  0.]), array([19., 35.]), 35.0)\n",
      "(3, 0)\n",
      "(array([ 0.,  0., 35., 38.,  0.]), array([38., 35.]), 38.0)\n",
      "(3, 1)\n",
      "(array([ 0.,  0., 35., 47.,  0.]), array([38., 47.]), 47.0)\n",
      "(0, 0)\n",
      "(array([49.,  0., 35., 47.,  0.]), array([49., 47.]), 49.0)\n",
      "(1, 1)\n",
      "(array([49., 49., 35., 47.,  0.]), array([49., 49.]), 49.0)\n",
      "(4, 0)\n",
      "(array([49., 49., 35., 47., 53.]), array([53., 49.]), 53.0)\n",
      "(4, 1)\n",
      "(array([49., 49., 35., 47., 66.]), array([53., 66.]), 66.0)\n",
      "(1, 0)\n",
      "(array([49., 69., 35., 47., 66.]), array([69., 66.]), 69.0)\n",
      "(0, 1)\n",
      "(array([78., 69., 35., 47., 66.]), array([69., 78.]), 78.0)\n"
     ]
    },
    {
     "data": {
      "text/plain": [
       "78.0"
      ]
     },
     "execution_count": 129,
     "metadata": {},
     "output_type": "execute_result"
    }
   ],
   "source": [
    "model.get_end_time(Seq)"
   ]
  },
  {
   "cell_type": "code",
   "execution_count": 130,
   "metadata": {},
   "outputs": [
    {
     "data": {
      "image/png": "[encoded data removed]",
      "text/plain": [
       "<Figure size 432x288 with 1 Axes>"
      ]
     },
     "metadata": {
      "needs_background": "light"
     },
     "output_type": "display_data"
    },
    {
     "data": {
      "image/png": "[encoded data removed]",
      "text/plain": [
       "<Figure size 432x288 with 1 Axes>"
      ]
     },
     "execution_count": 130,
     "metadata": {},
     "output_type": "execute_result"
    }
   ],
   "source": [
    "model.plot(Seq)"
   ]
  },
  {
   "cell_type": "code",
   "execution_count": 136,
   "metadata": {},
   "outputs": [],
   "source": [
    "a = [i for i in range(2) for _ in range(5)]"
   ]
  },
  {
   "cell_type": "code",
   "execution_count": 137,
   "metadata": {},
   "outputs": [
    {
     "data": {
      "text/plain": [
       "array([1, 0, 0, 0, 1, 0, 0, 1, 1, 1])"
      ]
     },
     "execution_count": 137,
     "metadata": {},
     "output_type": "execute_result"
    }
   ],
   "source": [
    "np.random.permutation(a)"
   ]
  },
  {
   "cell_type": "code",
   "execution_count": null,
   "metadata": {},
   "outputs": [],
   "source": []
  }
 ],
 "metadata": {
  "kernelspec": {
   "display_name": "python3",
   "language": "python",
   "name": "python3"
  },
  "language_info": {
   "codemirror_mode": {
    "name": "ipython",
    "version": 3
   },
   "file_extension": ".py",
   "mimetype": "text/x-python",
   "name": "python",
   "nbconvert_exporter": "python",
   "pygments_lexer": "ipython3",
   "version": "3.7.6"
  }
 },
 "nbformat": 4,
 "nbformat_minor": 4
}
